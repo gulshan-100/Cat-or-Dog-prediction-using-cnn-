{
 "cells": [
  {
   "cell_type": "markdown",
   "id": "66af1eb0",
   "metadata": {},
   "source": [
    "#### Importing the Libraries"
   ]
  },
  {
   "cell_type": "code",
   "execution_count": 3,
   "id": "728a9bdc",
   "metadata": {
    "scrolled": true
   },
   "outputs": [],
   "source": [
    "import tensorflow as tf \n",
    "from keras.preprocessing.image import ImageDataGenerator"
   ]
  },
  {
   "cell_type": "markdown",
   "id": "5d59cc16",
   "metadata": {},
   "source": [
    "#### Preprocessing the training set "
   ]
  },
  {
   "cell_type": "code",
   "execution_count": 4,
   "id": "380038c6",
   "metadata": {
    "scrolled": false
   },
   "outputs": [
    {
     "name": "stdout",
     "output_type": "stream",
     "text": [
      "Found 8000 images belonging to 2 classes.\n"
     ]
    }
   ],
   "source": [
    "train_datagen = ImageDataGenerator(rescale = 1./255,\n",
    "                                   shear_range = 0.2,\n",
    "                                   zoom_range = 0.2,\n",
    "                                   horizontal_flip = True)\n",
    "\n",
    "training_set = train_datagen.flow_from_directory('dataset/training_set',\n",
    "                                                 target_size = (64, 64),\n",
    "                                                 batch_size = 32,\n",
    "                                                 class_mode = 'binary')"
   ]
  },
  {
   "cell_type": "markdown",
   "id": "c5e5c916",
   "metadata": {},
   "source": [
    "#### Preprocessing the testing dataset "
   ]
  },
  {
   "cell_type": "code",
   "execution_count": 5,
   "id": "d378c79e",
   "metadata": {},
   "outputs": [
    {
     "name": "stdout",
     "output_type": "stream",
     "text": [
      "Found 2000 images belonging to 2 classes.\n"
     ]
    }
   ],
   "source": [
    "test_datagen = ImageDataGenerator(rescale = 1./255)\n",
    "test_set = test_datagen.flow_from_directory('dataset/test_set',\n",
    "                                            target_size = (64, 64),\n",
    "                                            batch_size = 32,\n",
    "                                            class_mode = 'binary')"
   ]
  },
  {
   "cell_type": "markdown",
   "id": "8d649e4a",
   "metadata": {},
   "source": [
    "## Building the CNN Model "
   ]
  },
  {
   "cell_type": "code",
   "execution_count": 6,
   "id": "e548320c",
   "metadata": {},
   "outputs": [
    {
     "name": "stdout",
     "output_type": "stream",
     "text": [
      "WARNING:tensorflow:From C:\\Users\\DELL\\anaconda3\\Lib\\site-packages\\keras\\src\\backend.py:873: The name tf.get_default_graph is deprecated. Please use tf.compat.v1.get_default_graph instead.\n",
      "\n"
     ]
    }
   ],
   "source": [
    "cnn = tf.keras.models.Sequential()"
   ]
  },
  {
   "cell_type": "code",
   "execution_count": 7,
   "id": "e2c060f6",
   "metadata": {},
   "outputs": [],
   "source": [
    "#convolution layer \n",
    "cnn.add(tf.keras.layers.Conv2D(filters=32, kernel_size=3, activation='relu', input_shape=[64, 64, 3]))"
   ]
  },
  {
   "cell_type": "code",
   "execution_count": 8,
   "id": "021c2e0d",
   "metadata": {},
   "outputs": [
    {
     "name": "stdout",
     "output_type": "stream",
     "text": [
      "WARNING:tensorflow:From C:\\Users\\DELL\\anaconda3\\Lib\\site-packages\\keras\\src\\layers\\pooling\\max_pooling2d.py:161: The name tf.nn.max_pool is deprecated. Please use tf.nn.max_pool2d instead.\n",
      "\n"
     ]
    }
   ],
   "source": [
    "#pooling \n",
    "cnn.add(tf.keras.layers.MaxPool2D(pool_size=2, strides=2))"
   ]
  },
  {
   "cell_type": "code",
   "execution_count": 9,
   "id": "241126f9",
   "metadata": {},
   "outputs": [],
   "source": [
    "#Adding second convolution layer \n",
    "cnn.add(tf.keras.layers.Conv2D(filters=32, kernel_size=3, activation='relu'))\n",
    "cnn.add(tf.keras.layers.MaxPool2D(pool_size=2, strides=2))"
   ]
  },
  {
   "cell_type": "code",
   "execution_count": 10,
   "id": "5792d569",
   "metadata": {},
   "outputs": [],
   "source": [
    "#Flattening \n",
    "cnn.add(tf.keras.layers.Flatten())"
   ]
  },
  {
   "cell_type": "code",
   "execution_count": 11,
   "id": "3ff6bce7",
   "metadata": {},
   "outputs": [],
   "source": [
    "cnn.add(tf.keras.layers.Dense(units=128, activation='relu'))"
   ]
  },
  {
   "cell_type": "code",
   "execution_count": 12,
   "id": "3f75ce9c",
   "metadata": {},
   "outputs": [],
   "source": [
    "cnn.add(tf.keras.layers.Dense(units=1, activation='sigmoid'))"
   ]
  },
  {
   "cell_type": "code",
   "execution_count": 13,
   "id": "66a07d63",
   "metadata": {},
   "outputs": [
    {
     "name": "stdout",
     "output_type": "stream",
     "text": [
      "WARNING:tensorflow:From C:\\Users\\DELL\\anaconda3\\Lib\\site-packages\\keras\\src\\optimizers\\__init__.py:309: The name tf.train.Optimizer is deprecated. Please use tf.compat.v1.train.Optimizer instead.\n",
      "\n"
     ]
    }
   ],
   "source": [
    "cnn.compile(optimizer = 'adam', loss = 'binary_crossentropy', metrics = ['accuracy'])"
   ]
  },
  {
   "cell_type": "code",
   "execution_count": 14,
   "id": "809b4f9d",
   "metadata": {},
   "outputs": [
    {
     "name": "stdout",
     "output_type": "stream",
     "text": [
      "Epoch 1/25\n",
      "WARNING:tensorflow:From C:\\Users\\DELL\\anaconda3\\Lib\\site-packages\\keras\\src\\utils\\tf_utils.py:492: The name tf.ragged.RaggedTensorValue is deprecated. Please use tf.compat.v1.ragged.RaggedTensorValue instead.\n",
      "\n",
      "WARNING:tensorflow:From C:\\Users\\DELL\\anaconda3\\Lib\\site-packages\\keras\\src\\engine\\base_layer_utils.py:384: The name tf.executing_eagerly_outside_functions is deprecated. Please use tf.compat.v1.executing_eagerly_outside_functions instead.\n",
      "\n",
      "250/250 [==============================] - 433s 2s/step - loss: 0.6564 - accuracy: 0.6079 - val_loss: 0.5988 - val_accuracy: 0.7100\n",
      "Epoch 2/25\n",
      "250/250 [==============================] - 55s 218ms/step - loss: 0.5851 - accuracy: 0.6936 - val_loss: 0.5563 - val_accuracy: 0.7230\n",
      "Epoch 3/25\n",
      "250/250 [==============================] - 54s 217ms/step - loss: 0.5390 - accuracy: 0.7295 - val_loss: 0.5089 - val_accuracy: 0.7595\n",
      "Epoch 4/25\n",
      "250/250 [==============================] - 56s 223ms/step - loss: 0.5073 - accuracy: 0.7524 - val_loss: 0.4875 - val_accuracy: 0.7675\n",
      "Epoch 5/25\n",
      "250/250 [==============================] - 54s 217ms/step - loss: 0.4916 - accuracy: 0.7585 - val_loss: 0.4839 - val_accuracy: 0.7635\n",
      "Epoch 6/25\n",
      "250/250 [==============================] - 54s 218ms/step - loss: 0.4697 - accuracy: 0.7769 - val_loss: 0.4837 - val_accuracy: 0.7815\n",
      "Epoch 7/25\n",
      "250/250 [==============================] - 57s 229ms/step - loss: 0.4608 - accuracy: 0.7779 - val_loss: 0.4791 - val_accuracy: 0.7835\n",
      "Epoch 8/25\n",
      "250/250 [==============================] - 69s 274ms/step - loss: 0.4393 - accuracy: 0.7946 - val_loss: 0.4393 - val_accuracy: 0.8025\n",
      "Epoch 9/25\n",
      "250/250 [==============================] - 60s 240ms/step - loss: 0.4274 - accuracy: 0.8018 - val_loss: 0.4449 - val_accuracy: 0.7920\n",
      "Epoch 10/25\n",
      "250/250 [==============================] - 59s 234ms/step - loss: 0.4237 - accuracy: 0.7996 - val_loss: 0.4463 - val_accuracy: 0.7935\n",
      "Epoch 11/25\n",
      "250/250 [==============================] - 56s 226ms/step - loss: 0.4174 - accuracy: 0.8091 - val_loss: 0.4495 - val_accuracy: 0.8000\n",
      "Epoch 12/25\n",
      "250/250 [==============================] - 57s 228ms/step - loss: 0.4007 - accuracy: 0.8145 - val_loss: 0.4217 - val_accuracy: 0.8150\n",
      "Epoch 13/25\n",
      "250/250 [==============================] - 61s 245ms/step - loss: 0.3900 - accuracy: 0.8246 - val_loss: 0.4153 - val_accuracy: 0.8190\n",
      "Epoch 14/25\n",
      "250/250 [==============================] - 58s 232ms/step - loss: 0.3752 - accuracy: 0.8310 - val_loss: 0.4438 - val_accuracy: 0.7970\n",
      "Epoch 15/25\n",
      "250/250 [==============================] - 65s 262ms/step - loss: 0.3718 - accuracy: 0.8322 - val_loss: 0.4255 - val_accuracy: 0.8090\n",
      "Epoch 16/25\n",
      "250/250 [==============================] - 68s 271ms/step - loss: 0.3537 - accuracy: 0.8356 - val_loss: 0.4815 - val_accuracy: 0.7930\n",
      "Epoch 17/25\n",
      "250/250 [==============================] - 78s 310ms/step - loss: 0.3437 - accuracy: 0.8468 - val_loss: 0.4279 - val_accuracy: 0.8120\n",
      "Epoch 18/25\n",
      "250/250 [==============================] - 63s 251ms/step - loss: 0.3371 - accuracy: 0.8456 - val_loss: 0.4216 - val_accuracy: 0.8185\n",
      "Epoch 19/25\n",
      "250/250 [==============================] - 72s 289ms/step - loss: 0.3237 - accuracy: 0.8559 - val_loss: 0.4502 - val_accuracy: 0.8155\n",
      "Epoch 20/25\n",
      "250/250 [==============================] - 68s 270ms/step - loss: 0.3293 - accuracy: 0.8526 - val_loss: 0.4385 - val_accuracy: 0.8160\n",
      "Epoch 21/25\n",
      "250/250 [==============================] - 59s 236ms/step - loss: 0.3125 - accuracy: 0.8618 - val_loss: 0.4271 - val_accuracy: 0.8180\n",
      "Epoch 22/25\n",
      "250/250 [==============================] - 81s 324ms/step - loss: 0.2937 - accuracy: 0.8763 - val_loss: 0.4491 - val_accuracy: 0.8225\n",
      "Epoch 23/25\n",
      "250/250 [==============================] - 87s 348ms/step - loss: 0.2819 - accuracy: 0.8764 - val_loss: 0.4386 - val_accuracy: 0.8180\n",
      "Epoch 24/25\n",
      "250/250 [==============================] - 78s 310ms/step - loss: 0.2791 - accuracy: 0.8820 - val_loss: 0.5002 - val_accuracy: 0.8045\n",
      "Epoch 25/25\n",
      "250/250 [==============================] - 82s 328ms/step - loss: 0.2728 - accuracy: 0.8829 - val_loss: 0.4760 - val_accuracy: 0.8170\n"
     ]
    },
    {
     "data": {
      "text/plain": [
       "<keras.src.callbacks.History at 0x1f5636b60d0>"
      ]
     },
     "execution_count": 14,
     "metadata": {},
     "output_type": "execute_result"
    }
   ],
   "source": [
    "cnn.fit(x = training_set, validation_data = test_set, epochs = 25)"
   ]
  },
  {
   "cell_type": "code",
   "execution_count": 16,
   "id": "c4ec3e57",
   "metadata": {},
   "outputs": [
    {
     "name": "stdout",
     "output_type": "stream",
     "text": [
      "1/1 [==============================] - 0s 61ms/step\n",
      "dog\n"
     ]
    }
   ],
   "source": [
    "import numpy as np\n",
    "from keras.preprocessing import image\n",
    "test_image = image.load_img('dataset/single_prediction/CD8.jpeg', target_size = (64, 64))\n",
    "test_image = image.img_to_array(test_image)\n",
    "test_image = np.expand_dims(test_image, axis = 0)\n",
    "result = cnn.predict(test_image)\n",
    "training_set.class_indices\n",
    "if result[0][0] == 1:\n",
    "  prediction = 'dog'\n",
    "else:\n",
    "  prediction = 'cat'\n",
    "\n",
    "print(prediction)"
   ]
  },
  {
   "cell_type": "markdown",
   "id": "b0215e8a",
   "metadata": {},
   "source": [
    "## Saving the Model "
   ]
  },
  {
   "cell_type": "code",
   "execution_count": 22,
   "id": "b691ac5a",
   "metadata": {},
   "outputs": [],
   "source": [
    "import pickle"
   ]
  },
  {
   "cell_type": "code",
   "execution_count": 23,
   "id": "d36d6913",
   "metadata": {},
   "outputs": [],
   "source": [
    "filename = 'cat_dog_prediction_model.h5'\n",
    "pickle.dump(cnn, open(filename, 'wb'))"
   ]
  },
  {
   "cell_type": "code",
   "execution_count": 24,
   "id": "4cec153c",
   "metadata": {},
   "outputs": [],
   "source": [
    "#loading the saved model \n",
    "\n",
    "model = pickle.load(open('cat_dog_prediction_model.h5','rb'))"
   ]
  },
  {
   "cell_type": "code",
   "execution_count": null,
   "id": "5e4c09b6",
   "metadata": {},
   "outputs": [],
   "source": []
  }
 ],
 "metadata": {
  "kernelspec": {
   "display_name": "Python 3 (ipykernel)",
   "language": "python",
   "name": "python3"
  },
  "language_info": {
   "codemirror_mode": {
    "name": "ipython",
    "version": 3
   },
   "file_extension": ".py",
   "mimetype": "text/x-python",
   "name": "python",
   "nbconvert_exporter": "python",
   "pygments_lexer": "ipython3",
   "version": "3.11.5"
  }
 },
 "nbformat": 4,
 "nbformat_minor": 5
}
